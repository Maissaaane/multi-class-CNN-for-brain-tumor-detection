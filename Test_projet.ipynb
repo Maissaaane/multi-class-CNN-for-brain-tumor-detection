{
 "cells": [
  {
   "cell_type": "markdown",
   "id": "4866ac3b-5ad3-4f51-bd8c-575280cc22e2",
   "metadata": {},
   "source": [
    "## Test modèle de tumeur"
   ]
  },
  {
   "cell_type": "code",
   "execution_count": 7,
   "id": "1f2390c3-5324-4929-a174-478e56d7f3a5",
   "metadata": {},
   "outputs": [
    {
     "name": "stdout",
     "output_type": "stream",
     "text": [
      "\u001b[1m1/1\u001b[0m \u001b[32m━━━━━━━━━━━━━━━━━━━━\u001b[0m\u001b[37m\u001b[0m \u001b[1m0s\u001b[0m 328ms/step\n",
      "Predicted Class (0 - No , 1- Yes):  Yes\n"
     ]
    }
   ],
   "source": [
    "# test our save model\n",
    "from keras.models import load_model\n",
    "from keras.preprocessing.image import load_img\n",
    "import numpy as np\n",
    " \n",
    "model = load_model('tumor.keras')\n",
    " \n",
    "image = load_img('archive/yes/Y40.jpg', target_size=(224, 224))\n",
    "img = np.array(image)\n",
    "img = img / 255.0\n",
    "img = img.reshape(1,224,224,3)\n",
    "label = model.predict(img)\n",
    "if label>0.5:\n",
    "    print(\"Predicted Class (0 - No , 1- Yes): \", 'Yes')\n",
    "else:\n",
    "    print(\"Predicted Class (0 - No , 1- Yes): \", 'No')"
   ]
  },
  {
   "cell_type": "code",
   "execution_count": 8,
   "id": "0aee2d12-8a6a-4195-be78-40a59888abf9",
   "metadata": {},
   "outputs": [
    {
     "name": "stdout",
     "output_type": "stream",
     "text": [
      "\u001b[1m1/1\u001b[0m \u001b[32m━━━━━━━━━━━━━━━━━━━━\u001b[0m\u001b[37m\u001b[0m \u001b[1m0s\u001b[0m 143ms/step\n",
      "Predicted Class (0 - No , 1- Yes):  No\n"
     ]
    }
   ],
   "source": [
    "from keras.models import load_model\n",
    "from keras.preprocessing.image import load_img\n",
    "import numpy as np\n",
    " \n",
    "model = load_model('tumor.keras')\n",
    " \n",
    "image = load_img('archive/no/15no.jpg', target_size=(224, 224))\n",
    "img = np.array(image)\n",
    "img = img / 255.0\n",
    "img = img.reshape(1,224,224,3)\n",
    "label = model.predict(img)\n",
    "if label>0.5:\n",
    "    print(\"Predicted Class (0 - No , 1- Yes): \", 'Yes')\n",
    "else:\n",
    "    print(\"Predicted Class (0 - No , 1- Yes): \", 'No')"
   ]
  }
 ],
 "metadata": {
  "kernelspec": {
   "display_name": "Python 3 (ipykernel)",
   "language": "python",
   "name": "python3"
  },
  "language_info": {
   "codemirror_mode": {
    "name": "ipython",
    "version": 3
   },
   "file_extension": ".py",
   "mimetype": "text/x-python",
   "name": "python",
   "nbconvert_exporter": "python",
   "pygments_lexer": "ipython3",
   "version": "3.12.8"
  }
 },
 "nbformat": 4,
 "nbformat_minor": 5
}
